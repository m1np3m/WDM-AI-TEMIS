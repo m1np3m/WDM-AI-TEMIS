{
 "cells": [
  {
   "cell_type": "code",
   "execution_count": 1,
   "metadata": {},
   "outputs": [],
   "source": [
    "import json\n",
    "eval_data = json.load(open(\"C:\\\\Users\\\\PC\\\\CODE\\\\WDM-AI-TEMIS\\\\data-finetune\\\\final_data\\\\pymupdf_json_2.json\", \"r\", encoding=\"utf-8\"))"
   ]
  },
  {
   "cell_type": "code",
   "execution_count": 2,
   "metadata": {},
   "outputs": [],
   "source": [
    "import re\n",
    "\n",
    "for data in eval_data:\n",
    "    pymupdf_md = data.get(\"pymupdf_md\", \"\")\n",
    "    # use regex to replace Col1, Col2, ... and nan with empty string\n",
    "    pymupdf_md = re.sub(r'Col\\d+|nan', '', pymupdf_md)\n",
    "    data[\"pymupdf_md\"] = pymupdf_md\n"
   ]
  },
  {
   "cell_type": "code",
   "execution_count": 3,
   "metadata": {},
   "outputs": [],
   "source": [
    "idx = 4\n",
    "\n",
    "ground_truth = eval_data[idx][\"markdown_content\"]\n",
    "predict = eval_data[idx][\"pymupdf_md\"]"
   ]
  },
  {
   "cell_type": "code",
   "execution_count": 4,
   "metadata": {},
   "outputs": [
    {
     "name": "stdout",
     "output_type": "stream",
     "text": [
      "|July 14,2023|Luke Combs|Gary AllanTurnpikeTroubadoursBrent Cobb|Luke CombsWorld Tour|||[88]|\n",
      "|July 15,2023|Luke Combs|Riley GreenLaineyWilsonBrent CobbFlatlandCavalry|Luke CombsWorld Tour|||[88]|\n",
      "|August 9,2023|Beyoncé|—|RenaissanceWorld Tour|53,612 /53,612|$12,227,012|Highest-grossingboxscore reportin the stadium'shistory. Firstfemale act andblack artist toheadline aconcert.[89][90]|\n",
      "|April 27,2024|KennyChesneyZac BrownBand|MeganMoroneyUncleKracker|Sun GoesDown 2024Tour||||\n",
      "|June 1,2024|George StraitChrisStapleton|Little BigTown|||||\n",
      "|October18, 2024|MorganWallen|LaurenWatkinsLarry FleetBaileyZimmerman|One Night AtA Time Tour||||\n",
      "|October19, 2024|MorganWallen|LaurenWatkinsLarry FleetBaileyZimmerman|One Night AtA Time Tour||||\n",
      "|October26, 2024|Luke CombsEric ChurchBilly StringsJames TaylorSheryl CrowKeith UrbanBaileyZimmerman|—| Concert forCarolina|82,193|| Benefit concertfor damagecaused byHurricaneHelene[91][92]|\n",
      "\n"
     ]
    }
   ],
   "source": [
    "print(ground_truth)"
   ]
  },
  {
   "cell_type": "code",
   "execution_count": 5,
   "metadata": {},
   "outputs": [
    {
     "name": "stdout",
     "output_type": "stream",
     "text": [
      "| July 14, 2023    | Luke Combs                                                                                 | Gary Allan Turnpike Troubadour s Brent Cobb           | Luke Combs World Tour                                 |                                                   |                                                   | [88]                                                                                                                         |\n",
      "|:-----------------|:-------------------------------------------------------------------------------------------|:------------------------------------------------------|:------------------------------------------------------|:------------------------------------------------------|:------------------------------------------------------|:-----------------------------------------------------------------------------------------------------------------------------|\n",
      "| July 15, 2023    | July 15, 2023                                                                              | Riley Green Lainey Wilson Brent Cobb Flatland Cavalry | Riley Green Lainey Wilson Brent Cobb Flatland Cavalry | Riley Green Lainey Wilson Brent Cobb Flatland Cavalry | Riley Green Lainey Wilson Brent Cobb Flatland Cavalry | Riley Green Lainey Wilson Brent Cobb Flatland Cavalry                                                                        |\n",
      "| August 9, 2023   | Beyoncé                                                                                    | —                                                     | Renaissance World Tour                                | 53,612 / 53,612                                       | $12,227,012                                           | Highest-grossing boxscore report in the stadium's history. First female act and black artist to headline a [89][90] concert. |\n",
      "| April 27, 2024   | Kenny Chesney Zac Brown Band                                                               | Megan Moroney Uncle Kracker                           | Sun Goes Down 2024 Tour                               |                                                    |                                                    |                                                                                                                           |\n",
      "| June 1, 2024     | George Strait Chris Stapleton                                                              | Little Big Town                                       |                                                    |                                                    |                                                    |                                                                                                                           |\n",
      "| October 18, 2024 | Morgan Wallen                                                                              | Lauren Watkins Larry Fleet Bailey Zimmerman           | One Night At A Time Tour                              |                                                    |                                                    |                                                                                                                           |\n",
      "| October 19, 2024 | October 19, 2024                                                                           | October 19, 2024                                      | October 19, 2024                                      | October 19, 2024                                      | October 19, 2024                                      | October 19, 2024                                                                                                             |\n",
      "| October 26, 2024 | Luke Combs Eric Church Billy Strings James Taylor Sheryl Crow Keith Urban Bailey Zimmerman | —                                                     | Concert for Carolina                                  | 82193                                                 |                                                    | Benefit concert for damage caused by Hurricane [91][92] Helene                                                               |\n"
     ]
    }
   ],
   "source": [
    "print(predict)"
   ]
  },
  {
   "cell_type": "code",
   "execution_count": 33,
   "metadata": {},
   "outputs": [
    {
     "data": {
      "text/markdown": [
       "|July 14,2023|Luke Combs|Gary AllanTurnpikeTroubadoursBrent Cobb|Luke CombsWorld Tour|||[88]|\n",
       "|July 15,2023|Luke Combs|Riley GreenLaineyWilsonBrent CobbFlatlandCavalry|Luke CombsWorld Tour|||[88]|\n",
       "|August 9,2023|Beyoncé|—|RenaissanceWorld Tour|53,612 /53,612|$12,227,012|Highest-grossingboxscore reportin the stadium'shistory. Firstfemale act andblack artist toheadline aconcert.[89][90]|\n",
       "|April 27,2024|KennyChesneyZac BrownBand|MeganMoroneyUncleKracker|Sun GoesDown 2024Tour||||\n",
       "|June 1,2024|George StraitChrisStapleton|Little BigTown|||||\n",
       "|October18, 2024|MorganWallen|LaurenWatkinsLarry FleetBaileyZimmerman|One Night AtA Time Tour||||\n",
       "|October19, 2024|MorganWallen|LaurenWatkinsLarry FleetBaileyZimmerman|One Night AtA Time Tour||||\n",
       "|October26, 2024|Luke CombsEric ChurchBilly StringsJames TaylorSheryl CrowKeith UrbanBaileyZimmerman|—| Concert forCarolina|82,193|| Benefit concertfor damagecaused byHurricaneHelene[91][92]|\n"
      ],
      "text/plain": [
       "<IPython.core.display.Markdown object>"
      ]
     },
     "metadata": {},
     "output_type": "display_data"
    }
   ],
   "source": [
    "from IPython.display import display, Markdown\n",
    "\n",
    "display(Markdown(ground_truth))"
   ]
  },
  {
   "cell_type": "code",
   "execution_count": 34,
   "metadata": {},
   "outputs": [
    {
     "data": {
      "text/markdown": [
       "| July 14, 2023    | Luke Combs                                                                                 | Gary Allan Turnpike Troubadour s Brent Cobb           | Luke Combs World Tour                                 |                                                   |                                                   | [88]                                                                                                                         |\n",
       "|:-----------------|:-------------------------------------------------------------------------------------------|:------------------------------------------------------|:------------------------------------------------------|:------------------------------------------------------|:------------------------------------------------------|:-----------------------------------------------------------------------------------------------------------------------------|\n",
       "| July 15, 2023    | July 15, 2023                                                                              | Riley Green Lainey Wilson Brent Cobb Flatland Cavalry | Riley Green Lainey Wilson Brent Cobb Flatland Cavalry | Riley Green Lainey Wilson Brent Cobb Flatland Cavalry | Riley Green Lainey Wilson Brent Cobb Flatland Cavalry | Riley Green Lainey Wilson Brent Cobb Flatland Cavalry                                                                        |\n",
       "| August 9, 2023   | Beyoncé                                                                                    | —                                                     | Renaissance World Tour                                | 53,612 / 53,612                                       | $12,227,012                                           | Highest-grossing boxscore report in the stadium's history. First female act and black artist to headline a [89][90] concert. |\n",
       "| April 27, 2024   | Kenny Chesney Zac Brown Band                                                               | Megan Moroney Uncle Kracker                           | Sun Goes Down 2024 Tour                               |                                                    |                                                    |                                                                                                                           |\n",
       "| June 1, 2024     | George Strait Chris Stapleton                                                              | Little Big Town                                       |                                                    |                                                    |                                                    |                                                                                                                           |\n",
       "| October 18, 2024 | Morgan Wallen                                                                              | Lauren Watkins Larry Fleet Bailey Zimmerman           | One Night At A Time Tour                              |                                                    |                                                    |                                                                                                                           |\n",
       "| October 19, 2024 | October 19, 2024                                                                           | October 19, 2024                                      | October 19, 2024                                      | October 19, 2024                                      | October 19, 2024                                      | October 19, 2024                                                                                                             |\n",
       "| October 26, 2024 | Luke Combs Eric Church Billy Strings James Taylor Sheryl Crow Keith Urban Bailey Zimmerman | —                                                     | Concert for Carolina                                  | 82193                                                 |                                                    | Benefit concert for damage caused by Hurricane [91][92] Helene                                                               |"
      ],
      "text/plain": [
       "<IPython.core.display.Markdown object>"
      ]
     },
     "metadata": {},
     "output_type": "display_data"
    }
   ],
   "source": [
    "display(Markdown(predict))"
   ]
  },
  {
   "cell_type": "code",
   "execution_count": 35,
   "metadata": {},
   "outputs": [
    {
     "name": "stdout",
     "output_type": "stream",
     "text": [
      "DEBUG: LLM initialized with JSON mode.\n"
     ]
    }
   ],
   "source": [
    "from langchain_openai import ChatOpenAI\n",
    "from dotenv import load_dotenv\n",
    "import os\n",
    "\n",
    "load_dotenv()\n",
    "OPENAI_API_KEY = os.getenv(\"OPENAI_API_KEY\")\n",
    "\n",
    "if not OPENAI_API_KEY:\n",
    "    print(\"Lỗi: OPENAI_API_KEY không được tìm thấy.\")\n",
    "else:\n",
    "    llm = ChatOpenAI(\n",
    "        api_key=OPENAI_API_KEY,\n",
    "        model=\"gpt-4o-mini\",\n",
    "        temperature=0,\n",
    "        model_kwargs={\n",
    "            \"response_format\": {\"type\": \"json_object\"}\n",
    "        }\n",
    "    )\n",
    "    print(\"DEBUG: LLM initialized with JSON mode.\")"
   ]
  },
  {
   "cell_type": "code",
   "execution_count": 9,
   "metadata": {},
   "outputs": [],
   "source": [
    "from langchain_core.prompts import PromptTemplate\n",
    "from langchain.output_parsers import PydanticOutputParser\n",
    "from pydantic import BaseModel\n",
    "from langchain_core.output_parsers import JsonOutputParser\n",
    "\n",
    "def evaluate_table_extraction(ground_truth: str, predict: str, llm_model = None, debug: bool = False) -> any: # Thay đổi kiểu trả về nếu cần\n",
    "   parser = JsonOutputParser()\n",
    "\n",
    "   prompt_template_str = \"\"\"\n",
    "   You are provided with two markdown tables: a ground truth table and a predicted table.\n",
    "\n",
    "Ground Truth Table:\n",
    "\n",
    "{ground_truth}\n",
    "\n",
    "Predicted Table:\n",
    "\n",
    "{predict}\n",
    "\n",
    "Evaluate the similarity between the two tables on a scale of 0 to 1, where 0 indicates no similarity and 1 indicates perfect match. For table fragments (tables without headers), prioritize the content and structure of the tables over the header values.\n",
    "\n",
    "Provide a similarity score and a brief explanation of your reasoning.\n",
    "   \"\"\"\n",
    "   prompt = PromptTemplate.from_template(template=prompt_template_str)\n",
    "\n",
    "   try:\n",
    "      chain = prompt | llm_model | parser\n",
    "      if debug:\n",
    "         print(\"DEBUG: Chain created successfully.\")\n",
    "\n",
    "      invocation_payload = {\n",
    "         \"ground_truth\": ground_truth,\n",
    "         \"predict\": predict\n",
    "      }\n",
    "      if debug:\n",
    "         print(f\"DEBUG: Invoking chain with payload (first 100 chars of each): \\nGround truth: {ground_truth[:100]}...\\nPredict: {predict[:100]}...\")\n",
    "\n",
    "      # Để kiểm tra riêng lẻ LLM (bỏ qua parser tạm thời):\n",
    "      # formatted_prompt = prompt.invoke(invocation_payload)\n",
    "      # print(f\"DEBUG: Formatted prompt sent to LLM:\\n{formatted_prompt.to_string()}\") # Hoặc .text tùy phiên bản\n",
    "      # llm_output = llm_model.invoke(formatted_prompt)\n",
    "      # print(f\"DEBUG: Raw output from LLM:\\n{llm_output}\")\n",
    "      # res = parser.parse(llm_output) # Parse thủ công nếu muốn kiểm tra parser\n",
    "\n",
    "      res = chain.invoke(invocation_payload)\n",
    "      if debug:\n",
    "         print(f\"DEBUG: Chain invocation successful. Result (res): {res}\")\n",
    "         print(f\"DEBUG: Type of res: {type(res)}\")\n",
    "      return res\n",
    "\n",
    "   except Exception as e:\n",
    "      if debug:   \n",
    "         print(f\"ERROR in evaluate_table_extraction: {e}\")\n",
    "         import traceback\n",
    "         traceback.print_exc() # In ra chi tiết lỗi và dòng gây lỗi\n",
    "      return \"\" # Hoặc None, hoặc một giá trị báo lỗi cụ thể"
   ]
  },
  {
   "cell_type": "code",
   "execution_count": 37,
   "metadata": {},
   "outputs": [
    {
     "name": "stdout",
     "output_type": "stream",
     "text": [
      "DEBUG: Chain created successfully.\n",
      "DEBUG: Invoking chain with payload (first 100 chars of each): \n",
      "Ground truth: |July 14,2023|Luke Combs|Gary AllanTurnpikeTroubadoursBrent Cobb|Luke CombsWorld Tour|||[88]|\n",
      "|July ...\n",
      "Predict: | July 14, 2023    | Luke Combs                                                                     ...\n",
      "DEBUG: Chain invocation successful. Result (res): {'score': 0.65}\n",
      "DEBUG: Type of res: <class 'dict'>\n",
      "{'score': 0.65}\n"
     ]
    }
   ],
   "source": [
    "a = evaluate_table_extraction(ground_truth, predict, llm, debug=True)\n",
    "print(a)"
   ]
  },
  {
   "cell_type": "code",
   "execution_count": 38,
   "metadata": {},
   "outputs": [
    {
     "name": "stderr",
     "output_type": "stream",
     "text": [
      "100%|██████████| 163/163 [02:58<00:00,  1.10s/it]"
     ]
    },
    {
     "name": "stdout",
     "output_type": "stream",
     "text": [
      "0.6925460122699388\n"
     ]
    },
    {
     "name": "stderr",
     "output_type": "stream",
     "text": [
      "\n"
     ]
    }
   ],
   "source": [
    "from tqdm import tqdm\n",
    "total_score = 0\n",
    "\n",
    "\n",
    "for sample in tqdm(eval_data):\n",
    "    ground_truth = sample['markdown_content']\n",
    "    predict = sample['pymupdf_md']\n",
    "    score = evaluate_table_extraction(ground_truth, predict, llm)\n",
    "    total_score += score['score']\n",
    "    # print(score)\n",
    "print(total_score / len(eval_data))\n"
   ]
  },
  {
   "cell_type": "code",
   "execution_count": 8,
   "metadata": {},
   "outputs": [
    {
     "name": "stderr",
     "output_type": "stream",
     "text": [
      "  9%|▊         | 14/163 [00:38<06:26,  2.59s/it]"
     ]
    },
    {
     "name": "stdout",
     "output_type": "stream",
     "text": [
      "An unexpected error occurred: 429 RESOURCE_EXHAUSTED. {'error': {'code': 429, 'message': 'Resource exhausted. Please try again later. Please refer to https://cloud.google.com/vertex-ai/generative-ai/docs/error-code-429 for more details.', 'status': 'RESOURCE_EXHAUSTED'}}\n"
     ]
    },
    {
     "name": "stderr",
     "output_type": "stream",
     "text": [
      "  9%|▉         | 15/163 [00:59<19:58,  8.09s/it]"
     ]
    },
    {
     "name": "stdout",
     "output_type": "stream",
     "text": [
      "An unexpected error occurred: [WinError 10060] A connection attempt failed because the connected party did not properly respond after a period of time, or established connection failed because connected host has failed to respond\n"
     ]
    },
    {
     "name": "stderr",
     "output_type": "stream",
     "text": [
      " 29%|██▉       | 47/163 [02:32<05:06,  2.64s/it]"
     ]
    },
    {
     "name": "stdout",
     "output_type": "stream",
     "text": [
      "An unexpected error occurred: 429 RESOURCE_EXHAUSTED. {'error': {'code': 429, 'message': 'Resource exhausted. Please try again later. Please refer to https://cloud.google.com/vertex-ai/generative-ai/docs/error-code-429 for more details.', 'status': 'RESOURCE_EXHAUSTED'}}\n"
     ]
    },
    {
     "name": "stderr",
     "output_type": "stream",
     "text": [
      " 29%|██▉       | 48/163 [02:34<04:47,  2.50s/it]"
     ]
    },
    {
     "name": "stdout",
     "output_type": "stream",
     "text": [
      "An unexpected error occurred: 429 RESOURCE_EXHAUSTED. {'error': {'code': 429, 'message': 'Resource exhausted. Please try again later. Please refer to https://cloud.google.com/vertex-ai/generative-ai/docs/error-code-429 for more details.', 'status': 'RESOURCE_EXHAUSTED'}}\n"
     ]
    },
    {
     "name": "stderr",
     "output_type": "stream",
     "text": [
      " 30%|███       | 49/163 [02:36<04:34,  2.41s/it]"
     ]
    },
    {
     "name": "stdout",
     "output_type": "stream",
     "text": [
      "An unexpected error occurred: 429 RESOURCE_EXHAUSTED. {'error': {'code': 429, 'message': 'Resource exhausted. Please try again later. Please refer to https://cloud.google.com/vertex-ai/generative-ai/docs/error-code-429 for more details.', 'status': 'RESOURCE_EXHAUSTED'}}\n"
     ]
    },
    {
     "name": "stderr",
     "output_type": "stream",
     "text": [
      " 31%|███       | 50/163 [02:39<04:25,  2.35s/it]"
     ]
    },
    {
     "name": "stdout",
     "output_type": "stream",
     "text": [
      "An unexpected error occurred: 429 RESOURCE_EXHAUSTED. {'error': {'code': 429, 'message': 'Resource exhausted. Please try again later. Please refer to https://cloud.google.com/vertex-ai/generative-ai/docs/error-code-429 for more details.', 'status': 'RESOURCE_EXHAUSTED'}}\n"
     ]
    },
    {
     "name": "stderr",
     "output_type": "stream",
     "text": [
      " 31%|███▏      | 51/163 [02:41<04:20,  2.33s/it]"
     ]
    },
    {
     "name": "stdout",
     "output_type": "stream",
     "text": [
      "An unexpected error occurred: 429 RESOURCE_EXHAUSTED. {'error': {'code': 429, 'message': 'Resource exhausted. Please try again later. Please refer to https://cloud.google.com/vertex-ai/generative-ai/docs/error-code-429 for more details.', 'status': 'RESOURCE_EXHAUSTED'}}\n"
     ]
    },
    {
     "name": "stderr",
     "output_type": "stream",
     "text": [
      " 32%|███▏      | 52/163 [02:43<04:11,  2.26s/it]"
     ]
    },
    {
     "name": "stdout",
     "output_type": "stream",
     "text": [
      "An unexpected error occurred: 429 RESOURCE_EXHAUSTED. {'error': {'code': 429, 'message': 'Resource exhausted. Please try again later. Please refer to https://cloud.google.com/vertex-ai/generative-ai/docs/error-code-429 for more details.', 'status': 'RESOURCE_EXHAUSTED'}}\n"
     ]
    },
    {
     "name": "stderr",
     "output_type": "stream",
     "text": [
      " 33%|███▎      | 54/163 [02:48<04:25,  2.44s/it]"
     ]
    },
    {
     "name": "stdout",
     "output_type": "stream",
     "text": [
      "An unexpected error occurred: 429 RESOURCE_EXHAUSTED. {'error': {'code': 429, 'message': 'Resource exhausted. Please try again later. Please refer to https://cloud.google.com/vertex-ai/generative-ai/docs/error-code-429 for more details.', 'status': 'RESOURCE_EXHAUSTED'}}\n"
     ]
    },
    {
     "name": "stderr",
     "output_type": "stream",
     "text": [
      " 34%|███▎      | 55/163 [03:09<14:21,  7.97s/it]"
     ]
    },
    {
     "name": "stdout",
     "output_type": "stream",
     "text": [
      "An unexpected error occurred: [WinError 10060] A connection attempt failed because the connected party did not properly respond after a period of time, or established connection failed because connected host has failed to respond\n"
     ]
    },
    {
     "name": "stderr",
     "output_type": "stream",
     "text": [
      " 40%|████      | 66/163 [04:01<14:35,  9.03s/it]"
     ]
    },
    {
     "name": "stdout",
     "output_type": "stream",
     "text": [
      "An unexpected error occurred: ('Connection aborted.', ConnectionResetError(10054, 'An existing connection was forcibly closed by the remote host', None, 10054, None))\n"
     ]
    },
    {
     "name": "stderr",
     "output_type": "stream",
     "text": [
      " 62%|██████▏   | 101/163 [05:39<02:37,  2.54s/it]"
     ]
    },
    {
     "name": "stdout",
     "output_type": "stream",
     "text": [
      "An unexpected error occurred: 429 RESOURCE_EXHAUSTED. {'error': {'code': 429, 'message': 'Resource exhausted. Please try again later. Please refer to https://cloud.google.com/vertex-ai/generative-ai/docs/error-code-429 for more details.', 'status': 'RESOURCE_EXHAUSTED'}}\n"
     ]
    },
    {
     "name": "stderr",
     "output_type": "stream",
     "text": [
      " 63%|██████▎   | 102/163 [05:41<02:32,  2.50s/it]"
     ]
    },
    {
     "name": "stdout",
     "output_type": "stream",
     "text": [
      "An unexpected error occurred: 429 RESOURCE_EXHAUSTED. {'error': {'code': 429, 'message': 'Resource exhausted. Please try again later. Please refer to https://cloud.google.com/vertex-ai/generative-ai/docs/error-code-429 for more details.', 'status': 'RESOURCE_EXHAUSTED'}}\n"
     ]
    },
    {
     "name": "stderr",
     "output_type": "stream",
     "text": [
      " 63%|██████▎   | 103/163 [05:44<02:22,  2.38s/it]"
     ]
    },
    {
     "name": "stdout",
     "output_type": "stream",
     "text": [
      "An unexpected error occurred: 429 RESOURCE_EXHAUSTED. {'error': {'code': 429, 'message': 'Resource exhausted. Please try again later. Please refer to https://cloud.google.com/vertex-ai/generative-ai/docs/error-code-429 for more details.', 'status': 'RESOURCE_EXHAUSTED'}}\n"
     ]
    },
    {
     "name": "stderr",
     "output_type": "stream",
     "text": [
      " 68%|██████▊   | 111/163 [06:25<07:07,  8.22s/it]"
     ]
    },
    {
     "name": "stdout",
     "output_type": "stream",
     "text": [
      "An unexpected error occurred: ('Connection aborted.', ConnectionResetError(10054, 'An existing connection was forcibly closed by the remote host', None, 10054, None))\n"
     ]
    },
    {
     "name": "stderr",
     "output_type": "stream",
     "text": [
      " 83%|████████▎ | 135/163 [07:52<03:53,  8.33s/it]"
     ]
    },
    {
     "name": "stdout",
     "output_type": "stream",
     "text": [
      "An unexpected error occurred: [WinError 10060] A connection attempt failed because the connected party did not properly respond after a period of time, or established connection failed because connected host has failed to respond\n"
     ]
    },
    {
     "name": "stderr",
     "output_type": "stream",
     "text": [
      " 86%|████████▌ | 140/163 [08:05<01:22,  3.57s/it]"
     ]
    },
    {
     "name": "stdout",
     "output_type": "stream",
     "text": [
      "An unexpected error occurred: 429 RESOURCE_EXHAUSTED. {'error': {'code': 429, 'message': 'Resource exhausted. Please try again later. Please refer to https://cloud.google.com/vertex-ai/generative-ai/docs/error-code-429 for more details.', 'status': 'RESOURCE_EXHAUSTED'}}\n"
     ]
    },
    {
     "name": "stderr",
     "output_type": "stream",
     "text": [
      " 93%|█████████▎| 151/163 [08:37<00:32,  2.71s/it]"
     ]
    },
    {
     "name": "stdout",
     "output_type": "stream",
     "text": [
      "An unexpected error occurred: 429 RESOURCE_EXHAUSTED. {'error': {'code': 429, 'message': 'Resource exhausted. Please try again later. Please refer to https://cloud.google.com/vertex-ai/generative-ai/docs/error-code-429 for more details.', 'status': 'RESOURCE_EXHAUSTED'}}\n"
     ]
    },
    {
     "name": "stderr",
     "output_type": "stream",
     "text": [
      " 95%|█████████▌| 155/163 [08:49<00:22,  2.78s/it]"
     ]
    },
    {
     "name": "stdout",
     "output_type": "stream",
     "text": [
      "An unexpected error occurred: 429 RESOURCE_EXHAUSTED. {'error': {'code': 429, 'message': 'Resource exhausted. Please try again later. Please refer to https://cloud.google.com/vertex-ai/generative-ai/docs/error-code-429 for more details.', 'status': 'RESOURCE_EXHAUSTED'}}\n"
     ]
    },
    {
     "name": "stderr",
     "output_type": "stream",
     "text": [
      " 96%|█████████▌| 156/163 [08:51<00:18,  2.64s/it]"
     ]
    },
    {
     "name": "stdout",
     "output_type": "stream",
     "text": [
      "An unexpected error occurred: 429 RESOURCE_EXHAUSTED. {'error': {'code': 429, 'message': 'Resource exhausted. Please try again later. Please refer to https://cloud.google.com/vertex-ai/generative-ai/docs/error-code-429 for more details.', 'status': 'RESOURCE_EXHAUSTED'}}\n"
     ]
    },
    {
     "name": "stderr",
     "output_type": "stream",
     "text": [
      " 98%|█████████▊| 160/163 [09:02<00:08,  2.73s/it]"
     ]
    },
    {
     "name": "stdout",
     "output_type": "stream",
     "text": [
      "An unexpected error occurred: 429 RESOURCE_EXHAUSTED. {'error': {'code': 429, 'message': 'Resource exhausted. Please try again later. Please refer to https://cloud.google.com/vertex-ai/generative-ai/docs/error-code-429 for more details.', 'status': 'RESOURCE_EXHAUSTED'}}\n"
     ]
    },
    {
     "name": "stderr",
     "output_type": "stream",
     "text": [
      "100%|██████████| 163/163 [09:11<00:00,  3.39s/it]"
     ]
    },
    {
     "name": "stdout",
     "output_type": "stream",
     "text": [
      "0.7927464788732399\n"
     ]
    },
    {
     "name": "stderr",
     "output_type": "stream",
     "text": [
      "\n"
     ]
    }
   ],
   "source": [
    "from tqdm import tqdm\n",
    "from gemini import generate\n",
    "import time\n",
    "\n",
    "total_score = 0\n",
    "successful_evaluations = 0\n",
    "max_retries = 3  # Maximum number of retries for handling connection errors\n",
    "\n",
    "for sample in tqdm(eval_data):\n",
    "    ground_truth = sample['markdown_content']\n",
    "    predict = sample['pymupdf_md']\n",
    "    retries = 0\n",
    "    while retries < max_retries:\n",
    "        try:\n",
    "            score = generate(ground_truth, predict)\n",
    "            total_score += score\n",
    "            successful_evaluations += 1\n",
    "            break  # Exit the retry loop if successful\n",
    "        except ConnectionResetError as e:\n",
    "            print(f\"Connection error: {e}. Retrying {retries + 1}/{max_retries}...\")\n",
    "            retries += 1\n",
    "            time.sleep(2)  # Wait for 2 seconds before retrying\n",
    "        except Exception as e:\n",
    "            print(f\"An unexpected error occurred: {e}\")\n",
    "            break  # Exit the retry loop on unexpected errors\n",
    "\n",
    "if successful_evaluations > 0:\n",
    "    print(total_score / successful_evaluations)\n",
    "else:\n",
    "    print(\"No successful evaluations to calculate average score.\")\n"
   ]
  }
 ],
 "metadata": {
  "kernelspec": {
   "display_name": ".venv",
   "language": "python",
   "name": "python3"
  },
  "language_info": {
   "codemirror_mode": {
    "name": "ipython",
    "version": 3
   },
   "file_extension": ".py",
   "mimetype": "text/x-python",
   "name": "python",
   "nbconvert_exporter": "python",
   "pygments_lexer": "ipython3",
   "version": "3.10.17"
  }
 },
 "nbformat": 4,
 "nbformat_minor": 2
}
