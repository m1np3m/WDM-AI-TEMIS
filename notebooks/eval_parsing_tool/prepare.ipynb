{
 "cells": [
  {
   "cell_type": "code",
   "execution_count": 1,
   "metadata": {},
   "outputs": [],
   "source": [
    "\n",
    "import json\n",
    "import os\n",
    "\n",
    "res_folder = \"C:\\\\Users\\\\PC\\\\CODE\\\\WDM-AI-TEMIS\\\\data-finetune\\\\final_data\"\n",
    "json_res = os.path.join(res_folder, \"final.json\")\n",
    "docling_json = os.path.join(res_folder, \"docling_json.json\")\n",
    "image_folder = \"C:\\\\Users\\\\PC\\\\CODE\\\\WDM-AI-TEMIS\\\\data-finetune\\\\final_data\\\\extracted_images\"\n",
    "pdf_paths = \"C:\\\\Users\\\\PC\\\\CODE\\\\WDM-AI-TEMIS\\\\data-finetune\\\\pdf4tabel\"\n",
    "res = json.load(open(json_res, 'r', encoding='utf-8'))\n",
    "pymupdf_json = os.path.join(res_folder, \"pymupdf_json.json\")\n",
    "\n",
    "new_res = []"
   ]
  },
  {
   "cell_type": "code",
   "execution_count": 4,
   "metadata": {},
   "outputs": [],
   "source": [
    "from PIL import Image\n",
    "\n",
    "def take_image(image_path):\n",
    "    image_path = os.path.join(image_folder, image_path)\n",
    "    image = Image.open(image_path)\n",
    "    return image"
   ]
  },
  {
   "cell_type": "code",
   "execution_count": 116,
   "metadata": {},
   "outputs": [],
   "source": [
    "image = take_image(res[0]['image_path'])\n",
    "image.show()"
   ]
  },
  {
   "cell_type": "markdown",
   "metadata": {},
   "source": [
    "## Docling"
   ]
  },
  {
   "cell_type": "code",
   "execution_count": 54,
   "metadata": {},
   "outputs": [],
   "source": [
    "import time\n",
    "\n",
    "from docling.datamodel.base_models import InputFormat\n",
    "from docling.datamodel.pipeline_options import PdfPipelineOptions, TableFormerMode\n",
    "from docling.document_converter import DocumentConverter, PdfFormatOption\n",
    "\n",
    "def docling_md(source):\n",
    "    # source = os.path.join(image_folder, res[0]['image_path'])\n",
    "    converter = DocumentConverter()\n",
    "    result = converter.convert(source)\n",
    "    return result.document.export_to_markdown()"
   ]
  },
  {
   "cell_type": "code",
   "execution_count": null,
   "metadata": {},
   "outputs": [],
   "source": [
    "for idx, sample in enumerate(res):\n",
    "    image_path = sample['image_path']\n",
    "    image_path = os.path.join(image_folder, image_path)\n",
    "    if os.path.exists(image_path):\n",
    "        sample['docling_md'] = docling_md(image_path)\n",
    "        res[idx]['docling_md'] = sample['docling_md']\n",
    "    else:\n",
    "        sample['docling_md'] = \"Cannot extract image\"\n",
    "    break"
   ]
  },
  {
   "cell_type": "markdown",
   "metadata": {},
   "source": [
    "## PymuPDF"
   ]
  },
  {
   "cell_type": "code",
   "execution_count": 2,
   "metadata": {},
   "outputs": [],
   "source": [
    "# Cần cài đặt các thư viện nếu chưa có:\n",
    "# pip install python-Levenshtein scikit-learn numpy\n",
    "\n",
    "import Levenshtein\n",
    "from sklearn.feature_extraction.text import TfidfVectorizer\n",
    "from sklearn.metrics.pairwise import cosine_similarity\n",
    "import numpy as np\n",
    "\n",
    "# --- Các hàm tính độ tương đồng (Giữ nguyên) ---\n",
    "\n",
    "import re\n",
    "\n",
    "def normalize_markdown_for_comparison(md_string):\n",
    "    if not isinstance(md_string, str):\n",
    "        return \"\"\n",
    "    # 1. Thay thế <br> hoặc <br /> bằng một khoảng trắng (hoặc newline nếu bạn muốn giữ cấu trúc nhiều dòng trong ô)\n",
    "    #    Ở đây, tôi thay bằng khoảng trắng để các ô thành một dòng dài hơn.\n",
    "    processed_string = re.sub(r'<br\\s*/?>', ' ', md_string)\n",
    "\n",
    "    # 2. (Tùy chọn) Xử lý các ký tự đặc biệt. Ví dụ, nếu PyMuPDF loại bỏ ☑:\n",
    "    #    Nếu bạn muốn so sánh có phân biệt ☑, bạn cần tìm cách giữ nó trong PyMuPDF output (khó)\n",
    "    #    Hoặc, loại bỏ nó khỏi cả hai chuỗi để so sánh công bằng hơn (mất thông tin)\n",
    "    #    processed_string = processed_string.replace(\"☑\", \"\") # Ví dụ loại bỏ\n",
    "\n",
    "    # 3. Chuẩn hóa nhiều khoảng trắng thành một khoảng trắng\n",
    "    processed_string = re.sub(r'\\s+', ' ', processed_string)\n",
    "\n",
    "    # 4. Strip từng dòng và kết hợp lại (quan trọng sau các thay đổi)\n",
    "    lines = [line.strip() for line in processed_string.split('\\n') if line.strip()] # Lọc dòng trống\n",
    "    return \"\\n\".join(lines)\n",
    "\n",
    "def levenshtein_similarity(str1, str2):\n",
    "    distance = Levenshtein.distance(str1, str2)\n",
    "    max_len = max(len(str1), len(str2))\n",
    "    if max_len == 0:\n",
    "        return 1.0\n",
    "    return 1.0 - (distance / max_len)\n",
    "\n",
    "def jaccard_similarity_lines(table1_str, table2_str):\n",
    "    \"\"\"\n",
    "    Tính độ tương đồng Jaccard dựa trên các dòng của hai bảng.\n",
    "    Đã cải thiện để robust hơn với khoảng trắng ở đầu/cuối dòng và các dòng trống.\n",
    "    \"\"\"\n",
    "    lines1 = {line.strip() for line in table1_str.strip().split('\\n') if line.strip()}\n",
    "    lines2 = {line.strip() for line in table2_str.strip().split('\\n') if line.strip()}\n",
    "\n",
    "    if not lines1 and not lines2:\n",
    "        return 1.0\n",
    "    if not lines1 or not lines2:\n",
    "        return 0.0\n",
    "\n",
    "    intersection = len(lines1.intersection(lines2))\n",
    "    union = len(lines1.union(lines2))\n",
    "\n",
    "    if union == 0: # Về lý thuyết không đạt tới đây nếu đã qua các check trên\n",
    "        return 1.0 \n",
    "    return intersection / union\n",
    "\n",
    "def calculate_cosine_similarity_for_list(table_list_to_compare, ground_truth_table):\n",
    "    if not table_list_to_compare:\n",
    "        return np.array([])\n",
    "\n",
    "    documents = [ground_truth_table] + table_list_to_compare\n",
    "\n",
    "    try:\n",
    "        vectorizer = TfidfVectorizer()\n",
    "        tfidf_matrix = vectorizer.fit_transform(documents)\n",
    "    except ValueError:\n",
    "        similarities = []\n",
    "        for doc_str_in_list in table_list_to_compare:\n",
    "            gt_is_empty = not ground_truth_table.strip()\n",
    "            doc_is_empty = not doc_str_in_list.strip()\n",
    "            if gt_is_empty and doc_is_empty:\n",
    "                 similarities.append(1.0)\n",
    "            elif (gt_is_empty and not doc_is_empty) or (not gt_is_empty and doc_is_empty):\n",
    "                 similarities.append(0.0)\n",
    "            else:\n",
    "                 similarities.append(0.0)\n",
    "        return np.array(similarities)\n",
    "\n",
    "    if tfidf_matrix.shape[0] < 2 :\n",
    "        return np.zeros(len(table_list_to_compare))\n",
    "\n",
    "    ground_truth_vector = tfidf_matrix[0]\n",
    "    other_vectors = tfidf_matrix[1:]\n",
    "\n",
    "    if other_vectors.shape[0] == 0:\n",
    "        return np.zeros(len(table_list_to_compare))\n",
    "\n",
    "    similarities = cosine_similarity(ground_truth_vector, other_vectors)\n",
    "    return similarities.flatten()\n",
    "\n",
    "# --- Hàm Ensemble Chính (Cập nhật với Ngưỡng) ---\n",
    "\n",
    "def find_most_similar_table_ensemble(label_table_str, list_of_table_strs, verbose=True, min_similarity_threshold=None):\n",
    "    \"\"\"\n",
    "    Tìm chỉ số của bảng trong list_of_table_strs giống nhất với label_table_str\n",
    "    sử dụng phương pháp ensemble (trung bình) các điểm tương đồng.\n",
    "    Nếu không có bảng nào đạt ngưỡng tương đồng tối thiểu, trả về -1.\n",
    "\n",
    "    Args:\n",
    "        label_table_str (str): Chuỗi Markdown của bảng ground truth.\n",
    "        list_of_table_strs (list): Danh sách các chuỗi Markdown của các bảng cần so sánh.\n",
    "        verbose (bool): Nếu True, in ra các điểm tương đồng chi tiết.\n",
    "        min_similarity_threshold (float, optional): Ngưỡng tương đồng trung bình tối thiểu\n",
    "                                                     để một bảng được coi là khớp.\n",
    "                                                     Nếu None, không áp dụng ngưỡng (trả về chỉ số tốt nhất).\n",
    "                                                     Mặc định là None.\n",
    "\n",
    "    Returns:\n",
    "        int: Chỉ số của bảng giống nhất nếu đạt ngưỡng.\n",
    "             Trả về -1 nếu không có bảng nào đạt ngưỡng, danh sách rỗng, hoặc có lỗi.\n",
    "    \"\"\"\n",
    "    if not all(isinstance(s, str) for s in [label_table_str] + list_of_table_strs):\n",
    "        if verbose:\n",
    "            print(\"Lỗi: Không phải tất cả đầu vào đều là chuỗi. Hãy đảm bảo label và tất cả các bảng trong danh sách là chuỗi.\")\n",
    "        return -1\n",
    "\n",
    "    if not list_of_table_strs:\n",
    "        if verbose:\n",
    "            print(\"Danh sách bảng để so sánh trống.\")\n",
    "        return -1\n",
    "\n",
    "    num_tables = len(list_of_table_strs)\n",
    "    levenshtein_scores = np.zeros(num_tables)\n",
    "    jaccard_scores = np.zeros(num_tables)\n",
    "\n",
    "    if verbose:\n",
    "        print(\"--- Levenshtein Similarity ---\")\n",
    "    for i, table_content in enumerate(list_of_table_strs):\n",
    "        sim = levenshtein_similarity(label_table_str, table_content)\n",
    "        levenshtein_scores[i] = sim\n",
    "        if verbose:\n",
    "            print(f\"Bảng {i} vs ground truth: {sim:.4f}\")\n",
    "    if num_tables > 0:\n",
    "        best_levenshtein_idx = np.argmax(levenshtein_scores)\n",
    "        if verbose:\n",
    "            print(f\"Chỉ số bảng giống nhất (Levenshtein): {best_levenshtein_idx} với điểm {levenshtein_scores[best_levenshtein_idx]:.4f}\\n\")\n",
    "\n",
    "    if verbose:\n",
    "        print(\"--- Jaccard Similarity (dựa trên các dòng) ---\")\n",
    "    for i, table_content in enumerate(list_of_table_strs):\n",
    "        sim = jaccard_similarity_lines(label_table_str, table_content)\n",
    "        jaccard_scores[i] = sim\n",
    "        if verbose:\n",
    "            print(f\"Bảng {i} vs ground truth: {sim:.4f}\")\n",
    "    if num_tables > 0:\n",
    "        best_jaccard_idx = np.argmax(jaccard_scores)\n",
    "        score_to_display_jaccard = jaccard_scores[best_jaccard_idx] if jaccard_scores.size > 0 else 0.0\n",
    "        if verbose:\n",
    "            print(f\"Chỉ số bảng giống nhất (Jaccard - dòng): {best_jaccard_idx} với điểm {score_to_display_jaccard:.4f}\\n\")\n",
    "\n",
    "    if verbose:\n",
    "        print(\"--- Cosine Similarity (TF-IDF) ---\")\n",
    "    cosine_scores = calculate_cosine_similarity_for_list(list_of_table_strs, label_table_str)\n",
    "    if cosine_scores.size == num_tables:\n",
    "        for i, score in enumerate(cosine_scores):\n",
    "            if verbose:\n",
    "                print(f\"Bảng {i} vs ground truth: {score:.4f}\")\n",
    "        best_cosine_idx = np.argmax(cosine_scores) if cosine_scores.size > 0 else 0\n",
    "        score_to_display_cosine = cosine_scores[best_cosine_idx] if cosine_scores.size > 0 else 0.0\n",
    "        if verbose:\n",
    "             print(f\"Chỉ số bảng giống nhất (Cosine TF-IDF): {best_cosine_idx} với điểm {score_to_display_cosine:.4f}\\n\")\n",
    "    else:\n",
    "        if verbose:\n",
    "            print(\"Không thể tính toán Cosine scores một cách chính xác, sử dụng điểm 0 cho ensemble.\\n\")\n",
    "        cosine_scores = np.zeros(num_tables)\n",
    "\n",
    "    if not (len(levenshtein_scores) == num_tables and \\\n",
    "            len(jaccard_scores) == num_tables and \\\n",
    "            len(cosine_scores) == num_tables):\n",
    "        if verbose:\n",
    "            print(\"Lỗi: Kích thước của các mảng điểm không khớp để tính trung bình.\")\n",
    "        return -1\n",
    "\n",
    "    average_scores = (levenshtein_scores + jaccard_scores + cosine_scores) / 3.0\n",
    "    \n",
    "    if verbose:\n",
    "        print(\"--- Điểm Trung Bình ---\")\n",
    "        for i, avg_score in enumerate(average_scores):\n",
    "            print(f\"Bảng {i} - Điểm trung bình: {avg_score:.4f}\")\n",
    "\n",
    "    if average_scores.size > 0:\n",
    "        best_average_idx = np.argmax(average_scores)\n",
    "        highest_avg_score = average_scores[best_average_idx]\n",
    "\n",
    "        if verbose:\n",
    "            print(f\"\\nChỉ số bảng có điểm trung bình cao nhất: {best_average_idx} với điểm trung bình {highest_avg_score:.4f}\")\n",
    "            if min_similarity_threshold is not None:\n",
    "                 print(f\"Ngưỡng tương đồng tối thiểu yêu cầu: {min_similarity_threshold:.4f}\")\n",
    "\n",
    "        if min_similarity_threshold is not None:\n",
    "            if highest_avg_score >= min_similarity_threshold:\n",
    "                if verbose:\n",
    "                    print(f\"Điểm trung bình cao nhất ({highest_avg_score:.4f}) >= ngưỡng ({min_similarity_threshold:.4f}). Trả về chỉ số.\")\n",
    "                return int(best_average_idx)\n",
    "            else:\n",
    "                if verbose:\n",
    "                    print(f\"Điểm trung bình cao nhất ({highest_avg_score:.4f}) < ngưỡng ({min_similarity_threshold:.4f}). Không có bảng nào đủ giống. Trả về -1.\")\n",
    "                return -1\n",
    "        else: # Không có ngưỡng, trả về chỉ số tốt nhất\n",
    "            if verbose:\n",
    "                print(\"Không có ngưỡng tương đồng tối thiểu nào được áp dụng. Trả về chỉ số tốt nhất.\")\n",
    "            return int(best_average_idx)\n",
    "    else:\n",
    "        if verbose:\n",
    "            print(\"\\nKhông thể tính điểm trung bình tổng hợp hoặc không có bảng nào để đánh giá.\")\n",
    "        return -1\n"
   ]
  },
  {
   "cell_type": "code",
   "execution_count": 13,
   "metadata": {},
   "outputs": [],
   "source": [
    "import pymupdf\n",
    "\n",
    "\n",
    "def get_pdf_name(source: str) -> str:\n",
    "    pdf_name = os.path.basename(source)\n",
    "    file_name_part, file_extension_part = os.path.splitext(pdf_name)\n",
    "    return file_name_part\n",
    "\n",
    "def pymupdf_md(sample): \n",
    "    pdf_name = get_pdf_name(sample['source_pdf'])\n",
    "    source_pdf_path = os.path.join(pdf_paths, pdf_name+\".pdf\")\n",
    "\n",
    "    doc = pymupdf.open(source_pdf_path)\n",
    "    extracted_raw_markdown_tables = []\n",
    "    for page_num, page in enumerate(doc): # Thêm page_num để debug nếu cần\n",
    "        try:\n",
    "            # Cân nhắc các strategy khác nhau: \"lines\", \"lines_strict\", \"text\"\n",
    "            # find_tables() trả về một TableFinder object\n",
    "            table_finder = page.find_tables(strategy=\"lines_strict\") \n",
    "            if table_finder.tables: # Kiểm tra xem có bảng nào được tìm thấy không\n",
    "                for table in table_finder.tables:\n",
    "                    extracted_raw_markdown_tables.append(table.to_markdown(clean=False)) # Thử nghiệm clean=False/True\n",
    "        except Exception as e:\n",
    "            print(f\"Lỗi khi trích xuất bảng từ trang {page_num} của file {sample['source_pdf']}: {e}\")\n",
    "    doc.close()\n",
    "\n",
    "    label_ground_truth = sample['markdown_content']\n",
    "    normalized_label = normalize_markdown_for_comparison(label_ground_truth)\n",
    "\n",
    "    # Chuẩn hóa các bảng đã trích xuất\n",
    "    normalized_extracted_tables = [normalize_markdown_for_comparison(t) for t in extracted_raw_markdown_tables]\n",
    "\n",
    "    # Lọc bỏ các chuỗi rỗng sau khi chuẩn hóa (nếu có)\n",
    "    # và giữ index gốc để tham chiếu lại bảng gốc nếu cần\n",
    "    valid_normalized_tables_with_original_indices = []\n",
    "    for i, norm_table in enumerate(normalized_extracted_tables):\n",
    "        if norm_table: # Chỉ xem xét các bảng không rỗng sau chuẩn hóa\n",
    "            valid_normalized_tables_with_original_indices.append((norm_table, i))\n",
    "\n",
    "    final_normalized_tables_to_compare = [item[0] for item in valid_normalized_tables_with_original_indices]\n",
    "\n",
    "\n",
    "    if not final_normalized_tables_to_compare:\n",
    "        # print(f\"Không có bảng nào hợp lệ được trích xuất từ {sample['source_pdf']} sau chuẩn hóa.\")\n",
    "        sample['pymupdf_md'] = \"No valid tables extracted or normalized\"\n",
    "        return sample\n",
    "\n",
    "    # Gọi hàm ensemble với dữ liệu đã chuẩn hóa\n",
    "    best_match_normalized_idx = find_most_similar_table_ensemble(\n",
    "        normalized_label, \n",
    "        final_normalized_tables_to_compare, # Danh sách các bảng đã chuẩn hóa\n",
    "        verbose=False, # Đặt True để debug nếu cần\n",
    "        min_similarity_threshold=0.3 \n",
    "    )\n",
    "\n",
    "    if best_match_normalized_idx != -1:\n",
    "        # Lấy index của bảng gốc từ PyMuPDF output\n",
    "        original_table_index = valid_normalized_tables_with_original_indices[best_match_normalized_idx][1]\n",
    "        table_selected_original_format = extracted_raw_markdown_tables[original_table_index]\n",
    "        sample['pymupdf_md'] = table_selected_original_format\n",
    "    else:\n",
    "        sample['pymupdf_md'] = \"No suitable table found meeting threshold\"\n",
    "\n",
    "    return sample "
   ]
  },
  {
   "cell_type": "code",
   "execution_count": null,
   "metadata": {},
   "outputs": [
    {
     "name": "stderr",
     "output_type": "stream",
     "text": [
      "  0%|          | 0/163 [00:00<?, ?it/s]"
     ]
    },
    {
     "name": "stdout",
     "output_type": "stream",
     "text": [
      "MuPDF error: format error: cmsOpenProfileFromMem failed\n",
      "\n",
      "MuPDF error: format error: cmsOpenProfileFromMem failed\n",
      "\n"
     ]
    },
    {
     "name": "stderr",
     "output_type": "stream",
     "text": [
      "  1%|          | 1/163 [00:13<35:42, 13.23s/it]"
     ]
    },
    {
     "name": "stdout",
     "output_type": "stream",
     "text": [
      "MuPDF error: format error: cmsOpenProfileFromMem failed\n",
      "\n",
      "MuPDF error: format error: cmsOpenProfileFromMem failed\n",
      "\n"
     ]
    },
    {
     "name": "stderr",
     "output_type": "stream",
     "text": [
      "  1%|          | 2/163 [00:26<34:56, 13.02s/it]"
     ]
    },
    {
     "name": "stdout",
     "output_type": "stream",
     "text": [
      "MuPDF error: format error: cmsOpenProfileFromMem failed\n",
      "\n",
      "MuPDF error: format error: cmsOpenProfileFromMem failed\n",
      "\n"
     ]
    },
    {
     "name": "stderr",
     "output_type": "stream",
     "text": [
      "  2%|▏         | 3/163 [00:42<38:58, 14.61s/it]"
     ]
    },
    {
     "name": "stdout",
     "output_type": "stream",
     "text": [
      "MuPDF error: format error: cmsOpenProfileFromMem failed\n",
      "\n",
      "MuPDF error: format error: cmsOpenProfileFromMem failed\n",
      "\n"
     ]
    },
    {
     "name": "stderr",
     "output_type": "stream",
     "text": [
      "  2%|▏         | 4/163 [01:00<42:28, 16.03s/it]"
     ]
    },
    {
     "name": "stdout",
     "output_type": "stream",
     "text": [
      "MuPDF error: format error: cmsOpenProfileFromMem failed\n",
      "\n",
      "MuPDF error: format error: cmsOpenProfileFromMem failed\n",
      "\n"
     ]
    },
    {
     "name": "stderr",
     "output_type": "stream",
     "text": [
      "  3%|▎         | 5/163 [01:18<44:11, 16.78s/it]"
     ]
    },
    {
     "name": "stdout",
     "output_type": "stream",
     "text": [
      "MuPDF error: format error: cmsOpenProfileFromMem failed\n",
      "\n",
      "MuPDF error: format error: cmsOpenProfileFromMem failed\n",
      "\n"
     ]
    },
    {
     "name": "stderr",
     "output_type": "stream",
     "text": [
      "  4%|▍         | 7/163 [01:46<37:51, 14.56s/it]"
     ]
    },
    {
     "name": "stdout",
     "output_type": "stream",
     "text": [
      "MuPDF error: format error: cmsOpenProfileFromMem failed\n",
      "\n"
     ]
    },
    {
     "name": "stderr",
     "output_type": "stream",
     "text": [
      "  5%|▍         | 8/163 [01:49<28:30, 11.03s/it]"
     ]
    },
    {
     "name": "stdout",
     "output_type": "stream",
     "text": [
      "MuPDF error: format error: cmsOpenProfileFromMem failed\n",
      "\n"
     ]
    },
    {
     "name": "stderr",
     "output_type": "stream",
     "text": [
      "  6%|▌         | 9/163 [02:22<46:03, 17.95s/it]"
     ]
    },
    {
     "name": "stdout",
     "output_type": "stream",
     "text": [
      "MuPDF error: format error: cmsOpenProfileFromMem failed\n",
      "\n"
     ]
    },
    {
     "name": "stderr",
     "output_type": "stream",
     "text": [
      "  6%|▌         | 10/163 [02:52<55:02, 21.58s/it]"
     ]
    },
    {
     "name": "stdout",
     "output_type": "stream",
     "text": [
      "MuPDF error: format error: cmsOpenProfileFromMem failed\n",
      "\n"
     ]
    },
    {
     "name": "stderr",
     "output_type": "stream",
     "text": [
      "  7%|▋         | 11/163 [03:10<52:04, 20.56s/it]"
     ]
    },
    {
     "name": "stdout",
     "output_type": "stream",
     "text": [
      "MuPDF error: format error: cmsOpenProfileFromMem failed\n",
      "\n"
     ]
    },
    {
     "name": "stderr",
     "output_type": "stream",
     "text": [
      "  7%|▋         | 12/163 [03:29<50:18, 19.99s/it]"
     ]
    },
    {
     "name": "stdout",
     "output_type": "stream",
     "text": [
      "MuPDF error: format error: cmsOpenProfileFromMem failed\n",
      "\n"
     ]
    },
    {
     "name": "stderr",
     "output_type": "stream",
     "text": [
      "  8%|▊         | 13/163 [03:47<48:40, 19.47s/it]"
     ]
    },
    {
     "name": "stdout",
     "output_type": "stream",
     "text": [
      "MuPDF error: format error: cmsOpenProfileFromMem failed\n",
      "\n"
     ]
    },
    {
     "name": "stderr",
     "output_type": "stream",
     "text": [
      "  9%|▊         | 14/163 [04:09<50:17, 20.25s/it]"
     ]
    },
    {
     "name": "stdout",
     "output_type": "stream",
     "text": [
      "MuPDF error: format error: cmsOpenProfileFromMem failed\n",
      "\n"
     ]
    },
    {
     "name": "stderr",
     "output_type": "stream",
     "text": [
      "  9%|▉         | 15/163 [04:37<55:46, 22.61s/it]"
     ]
    },
    {
     "name": "stdout",
     "output_type": "stream",
     "text": [
      "MuPDF error: format error: cmsOpenProfileFromMem failed\n",
      "\n"
     ]
    },
    {
     "name": "stderr",
     "output_type": "stream",
     "text": [
      " 10%|▉         | 16/163 [05:04<58:09, 23.73s/it]"
     ]
    },
    {
     "name": "stdout",
     "output_type": "stream",
     "text": [
      "MuPDF error: format error: cmsOpenProfileFromMem failed\n",
      "\n",
      "MuPDF error: format error: cmsOpenProfileFromMem failed\n",
      "\n"
     ]
    },
    {
     "name": "stderr",
     "output_type": "stream",
     "text": [
      " 10%|█         | 17/163 [05:37<1:04:46, 26.62s/it]"
     ]
    },
    {
     "name": "stdout",
     "output_type": "stream",
     "text": [
      "MuPDF error: format error: cmsOpenProfileFromMem failed\n",
      "\n",
      "MuPDF error: format error: cmsOpenProfileFromMem failed\n",
      "\n"
     ]
    },
    {
     "name": "stderr",
     "output_type": "stream",
     "text": [
      " 11%|█         | 18/163 [06:22<1:17:45, 32.18s/it]"
     ]
    },
    {
     "name": "stdout",
     "output_type": "stream",
     "text": [
      "MuPDF error: format error: cmsOpenProfileFromMem failed\n",
      "\n",
      "MuPDF error: format error: cmsOpenProfileFromMem failed\n",
      "\n"
     ]
    },
    {
     "name": "stderr",
     "output_type": "stream",
     "text": [
      " 12%|█▏        | 19/163 [06:55<1:17:22, 32.24s/it]"
     ]
    },
    {
     "name": "stdout",
     "output_type": "stream",
     "text": [
      "MuPDF error: format error: cmsOpenProfileFromMem failed\n",
      "\n",
      "MuPDF error: format error: cmsOpenProfileFromMem failed\n",
      "\n"
     ]
    },
    {
     "name": "stderr",
     "output_type": "stream",
     "text": [
      " 12%|█▏        | 20/163 [07:27<1:16:39, 32.17s/it]"
     ]
    },
    {
     "name": "stdout",
     "output_type": "stream",
     "text": [
      "MuPDF error: format error: cmsOpenProfileFromMem failed\n",
      "\n",
      "MuPDF error: format error: cmsOpenProfileFromMem failed\n",
      "\n"
     ]
    },
    {
     "name": "stderr",
     "output_type": "stream",
     "text": [
      " 13%|█▎        | 21/163 [07:58<1:15:54, 32.07s/it]"
     ]
    },
    {
     "name": "stdout",
     "output_type": "stream",
     "text": [
      "MuPDF error: format error: cmsOpenProfileFromMem failed\n",
      "\n",
      "MuPDF error: format error: cmsOpenProfileFromMem failed\n",
      "\n"
     ]
    },
    {
     "name": "stderr",
     "output_type": "stream",
     "text": [
      " 13%|█▎        | 22/163 [08:29<1:14:18, 31.62s/it]"
     ]
    },
    {
     "name": "stdout",
     "output_type": "stream",
     "text": [
      "MuPDF error: format error: cmsOpenProfileFromMem failed\n",
      "\n",
      "MuPDF error: format error: cmsOpenProfileFromMem failed\n",
      "\n"
     ]
    },
    {
     "name": "stderr",
     "output_type": "stream",
     "text": [
      " 17%|█▋        | 27/163 [09:11<22:10,  9.78s/it]  "
     ]
    },
    {
     "name": "stdout",
     "output_type": "stream",
     "text": [
      "MuPDF error: format error: cmsOpenProfileFromMem failed\n",
      "\n"
     ]
    },
    {
     "name": "stderr",
     "output_type": "stream",
     "text": [
      " 17%|█▋        | 28/163 [09:16<18:54,  8.40s/it]"
     ]
    },
    {
     "name": "stdout",
     "output_type": "stream",
     "text": [
      "MuPDF error: format error: cmsOpenProfileFromMem failed\n",
      "\n"
     ]
    },
    {
     "name": "stderr",
     "output_type": "stream",
     "text": [
      " 18%|█▊        | 29/163 [09:22<16:37,  7.44s/it]"
     ]
    },
    {
     "name": "stdout",
     "output_type": "stream",
     "text": [
      "MuPDF error: format error: cmsOpenProfileFromMem failed\n",
      "\n"
     ]
    },
    {
     "name": "stderr",
     "output_type": "stream",
     "text": [
      " 18%|█▊        | 30/163 [09:27<15:00,  6.77s/it]"
     ]
    },
    {
     "name": "stdout",
     "output_type": "stream",
     "text": [
      "MuPDF error: format error: cmsOpenProfileFromMem failed\n",
      "\n"
     ]
    },
    {
     "name": "stderr",
     "output_type": "stream",
     "text": [
      " 19%|█▉        | 31/163 [09:32<13:51,  6.30s/it]"
     ]
    },
    {
     "name": "stdout",
     "output_type": "stream",
     "text": [
      "MuPDF error: format error: cmsOpenProfileFromMem failed\n",
      "\n"
     ]
    },
    {
     "name": "stderr",
     "output_type": "stream",
     "text": [
      " 20%|█▉        | 32/163 [09:37<12:57,  5.94s/it]"
     ]
    },
    {
     "name": "stdout",
     "output_type": "stream",
     "text": [
      "MuPDF error: format error: cmsOpenProfileFromMem failed\n",
      "\n"
     ]
    },
    {
     "name": "stderr",
     "output_type": "stream",
     "text": [
      " 20%|██        | 33/163 [09:56<21:17,  9.83s/it]"
     ]
    },
    {
     "name": "stdout",
     "output_type": "stream",
     "text": [
      "MuPDF error: format error: cmsOpenProfileFromMem failed\n",
      "\n"
     ]
    },
    {
     "name": "stderr",
     "output_type": "stream",
     "text": [
      " 21%|██        | 34/163 [10:15<27:03, 12.59s/it]"
     ]
    },
    {
     "name": "stdout",
     "output_type": "stream",
     "text": [
      "MuPDF error: format error: cmsOpenProfileFromMem failed\n",
      "\n"
     ]
    },
    {
     "name": "stderr",
     "output_type": "stream",
     "text": [
      " 23%|██▎       | 38/163 [11:47<43:29, 20.87s/it]"
     ]
    },
    {
     "name": "stdout",
     "output_type": "stream",
     "text": [
      "MuPDF error: format error: cmsOpenProfileFromMem failed\n",
      "\n"
     ]
    },
    {
     "name": "stderr",
     "output_type": "stream",
     "text": [
      " 24%|██▍       | 39/163 [12:05<41:49, 20.24s/it]"
     ]
    },
    {
     "name": "stdout",
     "output_type": "stream",
     "text": [
      "MuPDF error: format error: cmsOpenProfileFromMem failed\n",
      "\n"
     ]
    },
    {
     "name": "stderr",
     "output_type": "stream",
     "text": [
      " 25%|██▍       | 40/163 [12:24<40:32, 19.77s/it]"
     ]
    },
    {
     "name": "stdout",
     "output_type": "stream",
     "text": [
      "MuPDF error: format error: cmsOpenProfileFromMem failed\n",
      "\n"
     ]
    },
    {
     "name": "stderr",
     "output_type": "stream",
     "text": [
      " 25%|██▌       | 41/163 [12:43<39:32, 19.45s/it]"
     ]
    },
    {
     "name": "stdout",
     "output_type": "stream",
     "text": [
      "MuPDF error: format error: cmsOpenProfileFromMem failed\n",
      "\n"
     ]
    },
    {
     "name": "stderr",
     "output_type": "stream",
     "text": [
      " 26%|██▌       | 42/163 [12:45<29:06, 14.43s/it]"
     ]
    },
    {
     "name": "stdout",
     "output_type": "stream",
     "text": [
      "MuPDF error: format error: cmsOpenProfileFromMem failed\n",
      "\n"
     ]
    },
    {
     "name": "stderr",
     "output_type": "stream",
     "text": [
      " 26%|██▋       | 43/163 [12:48<21:50, 10.92s/it]"
     ]
    },
    {
     "name": "stdout",
     "output_type": "stream",
     "text": [
      "MuPDF error: format error: cmsOpenProfileFromMem failed\n",
      "\n"
     ]
    },
    {
     "name": "stderr",
     "output_type": "stream",
     "text": [
      " 27%|██▋       | 44/163 [12:52<17:35,  8.87s/it]"
     ]
    },
    {
     "name": "stdout",
     "output_type": "stream",
     "text": [
      "MuPDF error: format error: cmsOpenProfileFromMem failed\n",
      "\n"
     ]
    },
    {
     "name": "stderr",
     "output_type": "stream",
     "text": [
      " 28%|██▊       | 45/163 [12:56<14:37,  7.43s/it]"
     ]
    },
    {
     "name": "stdout",
     "output_type": "stream",
     "text": [
      "MuPDF error: format error: cmsOpenProfileFromMem failed\n",
      "\n"
     ]
    },
    {
     "name": "stderr",
     "output_type": "stream",
     "text": [
      " 28%|██▊       | 46/163 [13:01<12:44,  6.53s/it]"
     ]
    },
    {
     "name": "stdout",
     "output_type": "stream",
     "text": [
      "MuPDF error: format error: cmsOpenProfileFromMem failed\n",
      "\n",
      "MuPDF error: format error: cmsOpenProfileFromMem failed\n",
      "\n"
     ]
    },
    {
     "name": "stderr",
     "output_type": "stream",
     "text": [
      " 29%|██▉       | 47/163 [13:11<14:48,  7.66s/it]"
     ]
    },
    {
     "name": "stdout",
     "output_type": "stream",
     "text": [
      "MuPDF error: format error: cmsOpenProfileFromMem failed\n",
      "\n",
      "MuPDF error: format error: cmsOpenProfileFromMem failed\n",
      "\n"
     ]
    },
    {
     "name": "stderr",
     "output_type": "stream",
     "text": [
      " 29%|██▉       | 48/163 [13:21<15:46,  8.23s/it]"
     ]
    },
    {
     "name": "stdout",
     "output_type": "stream",
     "text": [
      "MuPDF error: format error: cmsOpenProfileFromMem failed\n",
      "\n",
      "MuPDF error: format error: cmsOpenProfileFromMem failed\n",
      "\n"
     ]
    },
    {
     "name": "stderr",
     "output_type": "stream",
     "text": [
      " 40%|████      | 66/163 [15:15<04:29,  2.78s/it]"
     ]
    },
    {
     "name": "stdout",
     "output_type": "stream",
     "text": [
      "MuPDF error: format error: cmsOpenProfileFromMem failed\n",
      "\n"
     ]
    },
    {
     "name": "stderr",
     "output_type": "stream",
     "text": [
      " 41%|████      | 67/163 [15:26<08:11,  5.12s/it]"
     ]
    },
    {
     "name": "stdout",
     "output_type": "stream",
     "text": [
      "MuPDF error: format error: cmsOpenProfileFromMem failed\n",
      "\n"
     ]
    },
    {
     "name": "stderr",
     "output_type": "stream",
     "text": [
      " 42%|████▏     | 68/163 [15:36<10:39,  6.74s/it]"
     ]
    },
    {
     "name": "stdout",
     "output_type": "stream",
     "text": [
      "MuPDF error: format error: cmsOpenProfileFromMem failed\n",
      "\n"
     ]
    },
    {
     "name": "stderr",
     "output_type": "stream",
     "text": [
      " 42%|████▏     | 69/163 [15:47<12:20,  7.87s/it]"
     ]
    },
    {
     "name": "stdout",
     "output_type": "stream",
     "text": [
      "MuPDF error: format error: cmsOpenProfileFromMem failed\n",
      "\n"
     ]
    },
    {
     "name": "stderr",
     "output_type": "stream",
     "text": [
      " 57%|█████▋    | 93/163 [24:13<19:41, 16.87s/it]"
     ]
    },
    {
     "name": "stdout",
     "output_type": "stream",
     "text": [
      "MuPDF error: format error: cmsOpenProfileFromMem failed\n",
      "\n"
     ]
    },
    {
     "name": "stderr",
     "output_type": "stream",
     "text": [
      " 58%|█████▊    | 94/163 [24:19<15:49, 13.76s/it]"
     ]
    },
    {
     "name": "stdout",
     "output_type": "stream",
     "text": [
      "MuPDF error: format error: cmsOpenProfileFromMem failed\n",
      "\n"
     ]
    },
    {
     "name": "stderr",
     "output_type": "stream",
     "text": [
      " 63%|██████▎   | 102/163 [24:42<03:02,  2.99s/it]"
     ]
    },
    {
     "name": "stdout",
     "output_type": "stream",
     "text": [
      "MuPDF error: format error: cmsOpenProfileFromMem failed\n",
      "\n"
     ]
    },
    {
     "name": "stderr",
     "output_type": "stream",
     "text": [
      " 63%|██████▎   | 103/163 [24:53<05:24,  5.41s/it]"
     ]
    },
    {
     "name": "stdout",
     "output_type": "stream",
     "text": [
      "MuPDF error: format error: cmsOpenProfileFromMem failed\n",
      "\n"
     ]
    },
    {
     "name": "stderr",
     "output_type": "stream",
     "text": [
      " 64%|██████▍   | 104/163 [25:09<08:12,  8.35s/it]"
     ]
    },
    {
     "name": "stdout",
     "output_type": "stream",
     "text": [
      "MuPDF error: format error: cmsOpenProfileFromMem failed\n",
      "\n"
     ]
    },
    {
     "name": "stderr",
     "output_type": "stream",
     "text": [
      " 64%|██████▍   | 105/163 [25:26<10:48, 11.18s/it]"
     ]
    },
    {
     "name": "stdout",
     "output_type": "stream",
     "text": [
      "MuPDF error: format error: cmsOpenProfileFromMem failed\n",
      "\n"
     ]
    },
    {
     "name": "stderr",
     "output_type": "stream",
     "text": [
      " 77%|███████▋  | 125/163 [33:51<16:41, 26.34s/it]"
     ]
    }
   ],
   "source": [
    "from tqdm import tqdm\n",
    "\n",
    "# Process samples sequentially with progress bar\n",
    "results = []\n",
    "for sample in tqdm(res, total=len(res)):\n",
    "    try:\n",
    "        result = pymupdf_md(sample)\n",
    "        results.append(result)\n",
    "    except Exception as e:\n",
    "        print(f\"Error processing sample: {e}\")\n",
    "        results.append(None)"
   ]
  },
  {
   "cell_type": "code",
   "execution_count": null,
   "metadata": {},
   "outputs": [],
   "source": [
    "#save json\n",
    "pymupdf_json = os.path.join(res_folder, \"pymupdf_json.json\")\n",
    "with open(pymupdf_json, 'w', encoding='utf-8') as f:\n",
    "    json.dump(res, f, ensure_ascii=False, indent=4)"
   ]
  }
 ],
 "metadata": {
  "kernelspec": {
   "display_name": ".venv",
   "language": "python",
   "name": "python3"
  },
  "language_info": {
   "codemirror_mode": {
    "name": "ipython",
    "version": 3
   },
   "file_extension": ".py",
   "mimetype": "text/x-python",
   "name": "python",
   "nbconvert_exporter": "python",
   "pygments_lexer": "ipython3",
   "version": "3.10.17"
  }
 },
 "nbformat": 4,
 "nbformat_minor": 2
}
