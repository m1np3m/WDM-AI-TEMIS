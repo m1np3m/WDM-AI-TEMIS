{
 "cells": [
  {
   "cell_type": "code",
   "execution_count": 1,
   "id": "e51d1ed8",
   "metadata": {},
   "outputs": [],
   "source": [
    "# !pip install graphiti-core langchain-openai langgraph ipywidgets PyMuPDF qdrant-client"
   ]
  },
  {
   "cell_type": "markdown",
   "id": "c8ee402e",
   "metadata": {},
   "source": [
    "Step 1: Environment Setup"
   ]
  },
  {
   "cell_type": "code",
   "execution_count": 2,
   "id": "7479d1db",
   "metadata": {},
   "outputs": [
    {
     "name": "stdout",
     "output_type": "stream",
     "text": [
      "c:\\Users\\Admin\\Data\\WDM-AI-TEMIS\n",
      "c:/Users/Admin/Data/WDM-AI-TEMIS\n",
      "root_dir: c:/Users/Admin/Data/WDM-AI-TEMIS\n",
      "c:/Users/Admin/Data/WDM-AI-TEMIS/data\n"
     ]
    }
   ],
   "source": [
    "import sys,os\n",
    "__script_path=os.path.abspath(globals().get('__file__','.'))\n",
    "__script_dir = os.path.dirname(__script_path)\n",
    "root_dir = os.path.abspath(f'{__script_dir}/..')\n",
    "print(root_dir)\n",
    "for lib in [root_dir][::-1]:\n",
    "    if lib in sys.path:\n",
    "        sys.path.remove(lib)\n",
    "    sys.path.insert(0,lib)\n",
    "from configs.config import *\n"
   ]
  },
  {
   "cell_type": "code",
   "execution_count": 3,
   "id": "1b39032b",
   "metadata": {},
   "outputs": [
    {
     "data": {
      "text/plain": [
       "True"
      ]
     },
     "execution_count": 3,
     "metadata": {},
     "output_type": "execute_result"
    }
   ],
   "source": [
    "import asyncio\n",
    "import json\n",
    "import os\n",
    "import sys\n",
    "from pathlib import Path\n",
    "from typing import Annotated\n",
    "import fitz  # PyMuPDF\n",
    "from qdrant_client import QdrantClient\n",
    "from qdrant_client.models import VectorParams, PointStruct\n",
    "from langchain_openai import OpenAIEmbeddings\n",
    "from graphiti_core import Graphiti\n",
    "from graphiti_core.edges import EntityEdge\n",
    "from graphiti_core.nodes import EpisodeType\n",
    "from dotenv import load_dotenv, find_dotenv\n",
    "load_dotenv(find_dotenv())\n"
   ]
  },
  {
   "cell_type": "code",
   "execution_count": 4,
   "id": "45efe1cd",
   "metadata": {},
   "outputs": [],
   "source": [
    "OPENAI_API_KEY=os.getenv(\"OPENAI_API_KEY\")\n",
    "NEO4J_URI=os.getenv(\"NEO4J_URI\")\n",
    "NEO4J_USERNAME=os.getenv(\"NEO4J_USERNAME\")\n",
    "NEO4J_PASSWORD=os.getenv(\"NEO4J_PASSWORD\")\n",
    "QDRANT_URL=os.getenv(\"QDRANT_URL\")"
   ]
  },
  {
   "cell_type": "markdown",
   "id": "2689167f",
   "metadata": {},
   "source": [
    "Step 2: Verify Neo4j and Qdrant Connections\n",
    "\n",
    "Ensure Neo4j and Qdrant are running locally."
   ]
  },
  {
   "cell_type": "code",
   "execution_count": 5,
   "id": "11045009",
   "metadata": {},
   "outputs": [
    {
     "name": "stdout",
     "output_type": "stream",
     "text": [
      "Neo4j connected successfully\n",
      "Qdrant connected successfully\n"
     ]
    }
   ],
   "source": [
    "from neo4j import GraphDatabase\n",
    "from qdrant_client import QdrantClient\n",
    "\n",
    "# Neo4j connection\n",
    "neo4j_driver = GraphDatabase.driver(\n",
    "    NEO4J_URI,\n",
    "    auth=(NEO4J_USERNAME, NEO4J_PASSWORD)\n",
    ")\n",
    "with neo4j_driver.session() as session:\n",
    "    result = session.run(\"RETURN 1\")\n",
    "    assert result.single()[0] == 1, \"Neo4j connection failed\"\n",
    "print(\"Neo4j connected successfully\")\n",
    "\n",
    "\n",
    "qdrant_client = QdrantClient(\n",
    "   path=f\"{exps_dir}/qdrant_client_memory\",\n",
    ")\n",
    "qdrant_client.get_collections()\n",
    "print(\"Qdrant connected successfully\")"
   ]
  },
  {
   "cell_type": "code",
   "execution_count": 7,
   "id": "18f79ca3",
   "metadata": {},
   "outputs": [],
   "source": [
    "# from qdrant_client.models import VectorParams, Distance\n",
    "\n",
    "# qdrant_client.create_collection(\n",
    "#     collection_name='graphrag_docs',\n",
    "#     vectors_config=VectorParams(size=768, distance=Distance.COSINE),\n",
    "# )"
   ]
  },
  {
   "cell_type": "markdown",
   "id": "ad9abffc",
   "metadata": {},
   "source": [
    "Step 3: Data Ingestion\n",
    "\n",
    "Load Sample Data\n",
    "\n",
    "Use Wikipedia articles about \"Vietnam\" as the dataset. Replace with your own data as needed."
   ]
  },
  {
   "cell_type": "code",
   "execution_count": 8,
   "id": "d6ff5dca",
   "metadata": {},
   "outputs": [
    {
     "name": "stderr",
     "output_type": "stream",
     "text": [
      "c:\\Users\\Admin\\Data\\WDM-AI-TEMIS\\.venv\\lib\\site-packages\\wikipedia\\wikipedia.py:389: GuessedAtParserWarning: No parser was explicitly specified, so I'm using the best available HTML parser for this system (\"lxml\"). This usually isn't a problem, but if you run this code on another system, or in a different virtual environment, it may use a different parser and behave differently.\n",
      "\n",
      "The code that caused this warning is on line 389 of the file c:\\Users\\Admin\\Data\\WDM-AI-TEMIS\\.venv\\lib\\site-packages\\wikipedia\\wikipedia.py. To get rid of this warning, pass the additional argument 'features=\"lxml\"' to the BeautifulSoup constructor.\n",
      "\n",
      "  lis = BeautifulSoup(html).find_all('li')\n"
     ]
    },
    {
     "name": "stdout",
     "output_type": "stream",
     "text": [
      "Loaded 6 document chunks\n"
     ]
    }
   ],
   "source": [
    "from langchain_community.document_loaders import WikipediaLoader\n",
    "from langchain.text_splitter import TokenTextSplitter\n",
    "\n",
    "# Load Wikipedia data\n",
    "raw_documents = WikipediaLoader(query=\"Vietnam\").load()\n",
    "text_splitter = TokenTextSplitter(chunk_size=512, chunk_overlap=24)\n",
    "documents = text_splitter.split_documents(raw_documents[:3])\n",
    "print(f\"Loaded {len(documents)} document chunks\")"
   ]
  },
  {
   "cell_type": "markdown",
   "id": "12e785a2",
   "metadata": {},
   "source": [
    "Create Knowledge Graph with Graphiti\n",
    "\n",
    "Use Graphiti to extract entities and relationships and store them in Neo4j. Graphiti simplifies graph construction with episodic and relational data management."
   ]
  },
  {
   "cell_type": "code",
   "execution_count": 28,
   "id": "5624ed70",
   "metadata": {},
   "outputs": [
    {
     "name": "stderr",
     "output_type": "stream",
     "text": [
      "Received notification from DBMS server: {severity: WARNING} {code: Neo.ClientNotification.Statement.UnknownPropertyKeyWarning} {category: UNRECOGNIZED} {title: The provided property key is not in the database} {description: One of the property names in your query is not available in the database, make sure you didn't misspell it or that the label is available when you run this statement in your application (the missing property name is: entity_edges)} {position: line: 11, column: 15, offset: 353} for query: '\\n        MATCH (e:Episodic {uuid: $uuid})\\n            RETURN e.content AS content,\\n            e.created_at AS created_at,\\n            e.valid_at AS valid_at,\\n            e.uuid AS uuid,\\n            e.name AS name,\\n            e.group_id AS group_id,\\n            e.source_description AS source_description,\\n            e.source AS source,\\n            e.entity_edges AS entity_edges\\n        '\n",
      "Received notification from DBMS server: {severity: WARNING} {code: Neo.ClientNotification.Statement.UnknownPropertyKeyWarning} {category: UNRECOGNIZED} {title: The provided property key is not in the database} {description: One of the property names in your query is not available in the database, make sure you didn't misspell it or that the label is available when you run this statement in your application (the missing property name is: entity_edges)} {position: line: 11, column: 15, offset: 353} for query: '\\n        MATCH (e:Episodic {uuid: $uuid})\\n            RETURN e.content AS content,\\n            e.created_at AS created_at,\\n            e.valid_at AS valid_at,\\n            e.uuid AS uuid,\\n            e.name AS name,\\n            e.group_id AS group_id,\\n            e.source_description AS source_description,\\n            e.source AS source,\\n            e.entity_edges AS entity_edges\\n        '\n",
      "Received notification from DBMS server: {severity: WARNING} {code: Neo.ClientNotification.Statement.UnknownPropertyKeyWarning} {category: UNRECOGNIZED} {title: The provided property key is not in the database} {description: One of the property names in your query is not available in the database, make sure you didn't misspell it or that the label is available when you run this statement in your application (the missing property name is: entity_edges)} {position: line: 11, column: 15, offset: 353} for query: '\\n        MATCH (e:Episodic {uuid: $uuid})\\n            RETURN e.content AS content,\\n            e.created_at AS created_at,\\n            e.valid_at AS valid_at,\\n            e.uuid AS uuid,\\n            e.name AS name,\\n            e.group_id AS group_id,\\n            e.source_description AS source_description,\\n            e.source AS source,\\n            e.entity_edges AS entity_edges\\n        '\n",
      "Received notification from DBMS server: {severity: WARNING} {code: Neo.ClientNotification.Statement.UnknownPropertyKeyWarning} {category: UNRECOGNIZED} {title: The provided property key is not in the database} {description: One of the property names in your query is not available in the database, make sure you didn't misspell it or that the label is available when you run this statement in your application (the missing property name is: entity_edges)} {position: line: 11, column: 15, offset: 353} for query: '\\n        MATCH (e:Episodic {uuid: $uuid})\\n            RETURN e.content AS content,\\n            e.created_at AS created_at,\\n            e.valid_at AS valid_at,\\n            e.uuid AS uuid,\\n            e.name AS name,\\n            e.group_id AS group_id,\\n            e.source_description AS source_description,\\n            e.source AS source,\\n            e.entity_edges AS entity_edges\\n        '\n",
      "Received notification from DBMS server: {severity: WARNING} {code: Neo.ClientNotification.Statement.UnknownPropertyKeyWarning} {category: UNRECOGNIZED} {title: The provided property key is not in the database} {description: One of the property names in your query is not available in the database, make sure you didn't misspell it or that the label is available when you run this statement in your application (the missing property name is: entity_edges)} {position: line: 11, column: 15, offset: 353} for query: '\\n        MATCH (e:Episodic {uuid: $uuid})\\n            RETURN e.content AS content,\\n            e.created_at AS created_at,\\n            e.valid_at AS valid_at,\\n            e.uuid AS uuid,\\n            e.name AS name,\\n            e.group_id AS group_id,\\n            e.source_description AS source_description,\\n            e.source AS source,\\n            e.entity_edges AS entity_edges\\n        '\n",
      "Received notification from DBMS server: {severity: WARNING} {code: Neo.ClientNotification.Statement.UnknownPropertyKeyWarning} {category: UNRECOGNIZED} {title: The provided property key is not in the database} {description: One of the property names in your query is not available in the database, make sure you didn't misspell it or that the label is available when you run this statement in your application (the missing property name is: entity_edges)} {position: line: 11, column: 15, offset: 353} for query: '\\n        MATCH (e:Episodic {uuid: $uuid})\\n            RETURN e.content AS content,\\n            e.created_at AS created_at,\\n            e.valid_at AS valid_at,\\n            e.uuid AS uuid,\\n            e.name AS name,\\n            e.group_id AS group_id,\\n            e.source_description AS source_description,\\n            e.source AS source,\\n            e.entity_edges AS entity_edges\\n        '\n"
     ]
    },
    {
     "name": "stdout",
     "output_type": "stream",
     "text": [
      "Graphiti add_episode thất bại: node 6e1822bc-4762-477f-8deb-6ee58f1eea1e not found. Sử dụng Cypher fallback.\n",
      "Graphiti add_episode thất bại: node 42e2375c-403f-4dee-857f-712844cfa869 not found. Sử dụng Cypher fallback.\n",
      "Graphiti add_episode thất bại: node c9c6b37f-29c6-420c-9760-de1db26531b2 not found. Sử dụng Cypher fallback.\n",
      "Graphiti add_episode thất bại: node ac3d6306-b6ee-43e0-ad11-e31665294c0c not found. Sử dụng Cypher fallback.\n",
      "Graphiti add_episode thất bại: node 6e3a96eb-1722-490c-95a8-d0837fe2d513 not found. Sử dụng Cypher fallback.\n",
      "Graphiti add_episode thất bại: node 06d21ad3-b08f-4486-a314-bf7aaa9a5e89 not found. Sử dụng Cypher fallback.\n",
      "Knowledge graph created in Neo4j using Graphiti\n"
     ]
    }
   ],
   "source": [
    "from graphiti_core import Graphiti\n",
    "from graphiti_core.llm_client.config import LLMConfig\n",
    "from graphiti_core.llm_client.openai_client import OpenAIClient\n",
    "from graphiti_core.embedder.openai import OpenAIEmbedder, OpenAIEmbedderConfig\n",
    "from graphiti_core.cross_encoder.openai_reranker_client import OpenAIRerankerClient\n",
    "from datetime import datetime\n",
    "import asyncio\n",
    "import uuid\n",
    "import time\n",
    "# Configure Ollama LLM client\n",
    "llm_config = LLMConfig(\n",
    "    api_key=\"abc\",  # Ollama doesn't require a real API key\n",
    "    model=\"deepseek-r1:7b\",\n",
    "    small_model=\"deepseek-r1:7b\",\n",
    "    base_url=\"http://localhost:11434/v1\", # Ollama provides this port\n",
    ")\n",
    "\n",
    "llm_client = OpenAIClient(config=llm_config)\n",
    "embedder =OpenAIEmbedder(\n",
    "        config=OpenAIEmbedderConfig(\n",
    "            api_key=\"abc\",\n",
    "            embedding_model=\"nomic-embed-text\",\n",
    "            embedding_dim=768,\n",
    "            base_url=\"http://localhost:11434/v1\",\n",
    "        )\n",
    "    )\n",
    "# Initialize Graphiti with Ollama clients\n",
    "graphiti = Graphiti(\n",
    "    uri=os.getenv(\"NEO4J_URI\"),\n",
    "    user=os.getenv(\"NEO4J_USERNAME\"),\n",
    "    password=os.getenv(\"NEO4J_PASSWORD\"),\n",
    "    llm_client=llm_client,\n",
    "    embedder=OpenAIEmbedder(\n",
    "        config=OpenAIEmbedderConfig(\n",
    "            api_key=\"abc\",\n",
    "            embedding_model=\"nomic-embed-text\",\n",
    "            embedding_dim=768,\n",
    "            base_url=\"http://localhost:11434/v1\",\n",
    "        )\n",
    "    ),\n",
    "    cross_encoder=OpenAIRerankerClient(client=llm_client, config=llm_config),\n",
    ")\n",
    "\n",
    "async def ingest_documents():\n",
    "    for idx, doc in enumerate(documents):\n",
    "        try:\n",
    "            # Format episode_body theo định dạng {role/name}: {message}\n",
    "            episode_body = f\"Document: {doc.page_content}\"\n",
    "            # Sử dụng add_episode với các tham số trực tiếp\n",
    "            await graphiti.add_episode(\n",
    "                name=f\"Vietnam_Doc_{idx}\",\n",
    "                episode_body=episode_body,\n",
    "                source=EpisodeType.message,\n",
    "                source_description=\"Wikipedia document\",\n",
    "                reference_time=datetime.now(),\n",
    "                group_id=f\"group_{idx}\",\n",
    "                uuid=str(uuid.uuid4())\n",
    "            )\n",
    "            # Thêm độ trễ để tránh giới hạn tốc độ của Ollama\n",
    "            time.sleep(0.5)\n",
    "        except Exception as e:\n",
    "            # Fallback: Tạo node Episodic bằng Cypher\n",
    "            print(f\"Graphiti add_episode thất bại: {e}. Sử dụng Cypher fallback.\")\n",
    "            with neo4j_driver.session() as session:\n",
    "                doc_id = f\"Vietnam_Doc_{idx}\"\n",
    "                # Tạo node Episodic với các thuộc tính cần thiết\n",
    "                session.run(\n",
    "                    \"\"\"\n",
    "                    MERGE (e:Episodic {uuid: $uuid})\n",
    "                    SET e.content = $content,\n",
    "                        e.name = $name,\n",
    "                        e.source = $source,\n",
    "                        e.source_description = $source_description,\n",
    "                        e.created_at = $created_at,\n",
    "                        e.valid_at = $valid_at,\n",
    "                        e.group_id = $group_id,\n",
    "                        e.summary = $summary\n",
    "                    MERGE (ent:Entity {name: $entity_name})\n",
    "                    MERGE (e)-[:MENTIONS]->(ent)\n",
    "                    \"\"\",\n",
    "                    {\n",
    "                        \"uuid\": str(uuid.uuid4()),\n",
    "                        \"content\": doc.page_content,\n",
    "                        \"name\": doc_id,\n",
    "                        \"source\": \"Wikipedia\",\n",
    "                        \"source_description\": \"Wikipedia document\",\n",
    "                        \"created_at\": datetime.now().isoformat(),\n",
    "                        \"valid_at\": datetime.now().isoformat(),\n",
    "                        \"group_id\": f\"group_{idx}\",\n",
    "                        \"summary\": doc.page_content[:200],\n",
    "                        \"entity_name\": \"Vietnam\"\n",
    "                    }\n",
    "                )\n",
    "    print(\"Knowledge graph created in Neo4j using Graphiti\")\n",
    "\n",
    "# Chạy ingestion\n",
    "await ingest_documents()"
   ]
  },
  {
   "cell_type": "code",
   "execution_count": null,
   "id": "2dac4a75",
   "metadata": {},
   "outputs": [],
   "source": [
    "from langchain_qdrant import QdrantVectorStore\n",
    "from langchain_huggingface import HuggingFaceEmbeddings\n",
    "from qdrant_client.http.models import Distance, VectorParams\n",
    "\n",
    "# Initialize embeddings\n",
    "embedder = HuggingFaceEmbeddings(model_name=\"all-MiniLM-L6-v2\")\n",
    "\n",
    "# Create Qdrant collection\n",
    "collection_name = \"vietnam\"\n",
    "qdrant_client.create_collection(\n",
    "    collection_name=collection_name,\n",
    "    vectors_config=VectorParams(size=384, distance=Distance.COSINE)\n",
    ")\n",
    "\n",
    "# Initialize Qdrant vector store\n",
    "qdrant = QdrantVectorStore(\n",
    "    client=qdrant_client,\n",
    "    collection_name=collection_name,\n",
    "    embedding=embedder\n",
    ")\n",
    "\n",
    "# Add documents to Qdrant\n",
    "qdrant.add_documents(documents)\n",
    "print(f\"Stored {len(documents)} document embeddings in Qdrant\")"
   ]
  },
  {
   "cell_type": "markdown",
   "id": "c4215ee7",
   "metadata": {},
   "source": [
    "Step 4: Parallel Hybrid Retrieval\n",
    "\n",
    "Implement Parallel Retrieval\n",
    "\n",
    "Create a custom retriever that runs Qdrant vector search and Graphiti-based Neo4j graph search in parallel using Python’s asyncio."
   ]
  },
  {
   "cell_type": "code",
   "execution_count": null,
   "id": "fc4af79c",
   "metadata": {},
   "outputs": [],
   "source": [
    "import asyncio\n",
    "from langchain_core.documents import Document\n",
    "from neo4j_graphrag.retrievers import QdrantNeo4jRetriever\n",
    "\n",
    "# Custom parallel retriever\n",
    "class ParallelHybridRetriever:\n",
    "    def __init__(self, qdrant_client, neo4j_driver, collection_name, embedder, graphiti):\n",
    "        self.qdrant_retriever = QdrantNeo4jRetriever(\n",
    "            driver=neo4j_driver,\n",
    "            client=qdrant_client,\n",
    "            collection_name=collection_name,\n",
    "            id_property_external=\"neo4j_id\",\n",
    "            id_property_neo4j=\"id\",\n",
    "            embedder=embedder\n",
    "        )\n",
    "        self.graphiti = graphiti\n",
    "        self.embedder = embedder\n",
    "\n",
    "    async def qdrant_search(self, query, top_k):\n",
    "        results = self.qdrant_retriever.search(query_text=query, top_k=top_k)\n",
    "        return [{\"text\": res.node.properties.get(\"text\", \"\"), \"score\": res.score} for res in results]\n",
    "\n",
    "    async def graphiti_search(self, query, top_k):\n",
    "        results = await self.graphiti.search(query=query, k=top_k)\n",
    "        return [{\"text\": res.node.content, \"score\": res.score} for res in results]\n",
    "\n",
    "    async def search(self, query, top_k=2):\n",
    "        # Run Qdrant and Graphiti searches in parallel\n",
    "        qdrant_task = self.qdrant_search(query, top_k)\n",
    "        graphiti_task = self.graphiti_search(query, top_k)\n",
    "        qdrant_results, graphiti_results = await asyncio.gather(qdrant_task, graphiti_task)\n",
    "\n",
    "        # Merge results (simple union with deduplication by text)\n",
    "        merged_results = []\n",
    "        seen_texts = set()\n",
    "        for res in qdrant_results + graphiti_results:\n",
    "            if res[\"text\"] not in seen_texts:\n",
    "                merged_results.append(res)\n",
    "                seen_texts.add(res[\"text\"])\n",
    "        return merged_results[:top_k]\n",
    "\n",
    "# Initialize retriever\n",
    "retriever = ParallelHybridRetriever(\n",
    "    qdrant_client=qdrant_client,\n",
    "    neo4j_driver=neo4j_driver,\n",
    "    collection_name=collection_name,\n",
    "    embedder=embedder,\n",
    "    graphiti=graphiti\n",
    ")\n",
    "\n",
    "# Test parallel retrieval\n",
    "async def test_retrieval():\n",
    "    query = \"What is the history of Vietnam's independence?\"\n",
    "    results = await retriever.search(query, top_k=2)\n",
    "    for res in results:\n",
    "        print(f\"Text: {res['text'][:100]}..., Score: {res['score']}\")\n",
    "\n",
    "# Run test\n",
    "await test_retrieval()"
   ]
  },
  {
   "cell_type": "markdown",
   "id": "73384ea0",
   "metadata": {},
   "source": [
    "Step 5: Set Up GraphQL API\n",
    "\n",
    "Define GraphQL Schema\n",
    "\n",
    "Create a GraphQL schema to query the hybrid retriever."
   ]
  },
  {
   "cell_type": "code",
   "execution_count": null,
   "id": "a5f37b9c",
   "metadata": {},
   "outputs": [],
   "source": [
    "from ariadne import QueryType, gql, make_executable_schema\n",
    "from ariadne.asgi import GraphQL\n",
    "\n",
    "# Define GraphQL schema\n",
    "type_defs = gql(\"\"\"\n",
    "    type Query {\n",
    "        search(query: String!, top_k: Int!): [Result!]!\n",
    "    }\n",
    "\n",
    "    type Result {\n",
    "        text: String!\n",
    "        score: Float!\n",
    "    }\n",
    "\"\"\")\n",
    "\n",
    "# Define resolvers\n",
    "query = QueryType()\n",
    "\n",
    "@query.field(\"search\")\n",
    "async def resolve_search(_, info, query, top_k):\n",
    "    results = await retriever.search(query, top_k)\n",
    "    return [{\"text\": res[\"text\"], \"score\": res[\"score\"]} for res in results]\n",
    "\n",
    "# Create executable schema\n",
    "schema = make_executable_schema(type_defs, query)"
   ]
  },
  {
   "cell_type": "code",
   "execution_count": null,
   "id": "5c14d54c",
   "metadata": {},
   "outputs": [],
   "source": [
    "from fastapi import FastAPI\n",
    "from ariadne.asgi.handlers import GraphQLHTTPHandler\n",
    "\n",
    "app = FastAPI()\n",
    "app.mount(\"/graphql\", GraphQL(schema, debug=True))\n",
    "\n",
    "# Run the server (execute in terminal: uvicorn script:app --host 0.0.0.0 --port 8000)"
   ]
  },
  {
   "cell_type": "markdown",
   "id": "6548eb64",
   "metadata": {},
   "source": [
    "query {\n",
    "  search(query: \"What is the history of Vietnam's independence?\", top_k: 2) {\n",
    "    text\n",
    "    score\n",
    "  }\n",
    "}"
   ]
  },
  {
   "cell_type": "code",
   "execution_count": null,
   "id": "7471276d",
   "metadata": {},
   "outputs": [],
   "source": [
    "# Clear Neo4j database\n",
    "with neo4j_driver.session() as session:\n",
    "    session.run(\"MATCH (n) DETACH DELETE n\")\n",
    "print(\"Neo4j database cleared\")\n",
    "\n",
    "# Delete Qdrant collection\n",
    "qdrant_client.delete_collection(collection_name)\n",
    "print(f\"Qdrant collection {collection_name} deleted\")"
   ]
  }
 ],
 "metadata": {
  "kernelspec": {
   "display_name": ".venv",
   "language": "python",
   "name": "python3"
  },
  "language_info": {
   "codemirror_mode": {
    "name": "ipython",
    "version": 3
   },
   "file_extension": ".py",
   "mimetype": "text/x-python",
   "name": "python",
   "nbconvert_exporter": "python",
   "pygments_lexer": "ipython3",
   "version": "3.10.16"
  }
 },
 "nbformat": 4,
 "nbformat_minor": 5
}
